{
 "cells": [
  {
   "cell_type": "code",
   "execution_count": 11,
   "id": "0f6a4293-3773-476a-9c68-df7f868e6515",
   "metadata": {},
   "outputs": [
    {
     "name": "stdout",
     "output_type": "stream",
     "text": [
      "Requirement already satisfied: openai==0.28.0 in c:\\users\\ivsdl0025_user\\downloads\\anaconda\\lib\\site-packages (0.28.0)\n",
      "Requirement already satisfied: requests>=2.20 in c:\\users\\ivsdl0025_user\\downloads\\anaconda\\lib\\site-packages (from openai==0.28.0) (2.31.0)\n",
      "Requirement already satisfied: tqdm in c:\\users\\ivsdl0025_user\\downloads\\anaconda\\lib\\site-packages (from openai==0.28.0) (4.65.0)\n",
      "Requirement already satisfied: aiohttp in c:\\users\\ivsdl0025_user\\downloads\\anaconda\\lib\\site-packages (from openai==0.28.0) (3.9.3)\n",
      "Requirement already satisfied: charset-normalizer<4,>=2 in c:\\users\\ivsdl0025_user\\downloads\\anaconda\\lib\\site-packages (from requests>=2.20->openai==0.28.0) (2.0.4)\n",
      "Requirement already satisfied: idna<4,>=2.5 in c:\\users\\ivsdl0025_user\\downloads\\anaconda\\lib\\site-packages (from requests>=2.20->openai==0.28.0) (3.4)\n",
      "Requirement already satisfied: urllib3<3,>=1.21.1 in c:\\users\\ivsdl0025_user\\downloads\\anaconda\\lib\\site-packages (from requests>=2.20->openai==0.28.0) (2.0.7)\n",
      "Requirement already satisfied: certifi>=2017.4.17 in c:\\users\\ivsdl0025_user\\downloads\\anaconda\\lib\\site-packages (from requests>=2.20->openai==0.28.0) (2024.2.2)\n",
      "Requirement already satisfied: aiosignal>=1.1.2 in c:\\users\\ivsdl0025_user\\downloads\\anaconda\\lib\\site-packages (from aiohttp->openai==0.28.0) (1.2.0)\n",
      "Requirement already satisfied: attrs>=17.3.0 in c:\\users\\ivsdl0025_user\\downloads\\anaconda\\lib\\site-packages (from aiohttp->openai==0.28.0) (23.1.0)\n",
      "Requirement already satisfied: frozenlist>=1.1.1 in c:\\users\\ivsdl0025_user\\downloads\\anaconda\\lib\\site-packages (from aiohttp->openai==0.28.0) (1.4.0)\n",
      "Requirement already satisfied: multidict<7.0,>=4.5 in c:\\users\\ivsdl0025_user\\downloads\\anaconda\\lib\\site-packages (from aiohttp->openai==0.28.0) (6.0.4)\n",
      "Requirement already satisfied: yarl<2.0,>=1.0 in c:\\users\\ivsdl0025_user\\downloads\\anaconda\\lib\\site-packages (from aiohttp->openai==0.28.0) (1.9.3)\n",
      "Requirement already satisfied: colorama in c:\\users\\ivsdl0025_user\\downloads\\anaconda\\lib\\site-packages (from tqdm->openai==0.28.0) (0.4.6)\n",
      "Requirement already satisfied: textstat in c:\\users\\ivsdl0025_user\\downloads\\anaconda\\lib\\site-packages (0.7.3)\n",
      "Requirement already satisfied: pyphen in c:\\users\\ivsdl0025_user\\downloads\\anaconda\\lib\\site-packages (from textstat) (0.15.0)\n"
     ]
    }
   ],
   "source": [
    "!pip install openai==0.28.0\n",
    "!pip install textstat"
   ]
  },
  {
   "cell_type": "code",
   "execution_count": 12,
   "id": "8a11fdde-2f83-4150-a354-4d5def9f9331",
   "metadata": {},
   "outputs": [],
   "source": [
    "import os\n",
    "import openai\n",
    "import pandas as pd\n",
    "import joblib\n",
    "\n",
    "# Set the API key as an environment variable in the Jupyter Lab\n",
    "# os.environ['OPENAI_API_KEY'] = 'Enter your API key here'\n",
    "# openai.api_key = os.getenv('OPENAI_API_KEY')\n",
    "\n",
    "df = pd.read_csv('data/processed_data.csv')\n",
    "model = joblib.load('models/churn_model.pkl')\n",
    "\n",
    "# Sample marketing offers data\n",
    "marketing_offers = [\n",
    "    {\"customer_profile\": \"age: 30, plan: basic\", \"message\": \"Hi there! Upgrade to our premium plan and enjoy exclusive benefits.\"},\n",
    "    {\"customer_profile\": \"age: 45, plan: premium\", \"message\": \"Thank you for being a loyal customer! Enjoy a 20% discount on your next bill.\"},\n",
    "    {\"customer_profile\": \"age: 25, plan: basic\", \"message\": \"Special offer for you! Switch to our premium plan and get the first month free.\"},\n",
    "    {\"customer_profile\": \"age: 35, plan: premium\", \"message\": \"We appreciate your loyalty. Here’s a 30% discount on additional services.\"}\n",
    "]\n",
    "\n",
    "# Convert the sample marketing offers data to a DataFrame\n",
    "marketing_df = pd.DataFrame(marketing_offers)\n",
    "\n",
    "# Function to generate a personalized message using GPT-3\n",
    "def generate_message(customer_profile, offer):\n",
    "    profile_str = \", \".join(f\"{key}: {value}\" for key, value in customer_profile.items())\n",
    "    prompt = f\"Create a personalized marketing message for a customer with the following profile: {profile_str}. Offer: {offer}\\n\\nExamples:\\n\"\n",
    "    \n",
    "    for _, row in marketing_df.iterrows():\n",
    "        prompt += f\"Profile: {row['customer_profile']}\\nMessage: {row['message']}\\n\\n\"\n",
    "    \n",
    "    prompt += f\"Profile: {profile_str}\\nMessage:\"\n",
    "    \n",
    "    response = openai.ChatCompletion.create(\n",
    "        model=\"gpt-3.5-turbo\",\n",
    "        messages=[{\"role\": \"system\", \"content\": prompt}]\n",
    "    )\n",
    "    \n",
    "    return response.choices[0].message['content'].strip()\n",
    "\n",
    "\n",
    "# Function to integrate the churn prediction and message generation\n",
    "def chatbot_interface(customer_index, df, model):\n",
    "    features = df.drop(columns=['Churn'])\n",
    "    \n",
    "    # Predict churn risk\n",
    "    customer_data = features.iloc[[customer_index]]  # Ensure customer_data is a DataFrame with correct feature names\n",
    "    churn_risk = model.predict(customer_data)\n",
    "    \n",
    "    # Generate customer profile excluding the target column 'Churn'\n",
    "    customer_profile = df.drop(columns=['Churn']).iloc[customer_index].to_dict()\n",
    "    if churn_risk == 1:\n",
    "        message = generate_message(customer_profile, \"20% discount on next bill\")\n",
    "        return {\n",
    "            'message': message\n",
    "        }\n",
    "    else:\n",
    "        return {\n",
    "            'message': \"Customer is not at high risk of churn.\",'clarity': 0,'persuasion': 0,'personalization': 0\n",
    "        }"
   ]
  },
  {
   "cell_type": "code",
   "execution_count": 13,
   "id": "45736350-3e87-4dd0-8ad0-6e4a2b3b508e",
   "metadata": {},
   "outputs": [],
   "source": [
    "import re\n",
    "import textstat\n",
    "# Define a function to check for persuasive words\n",
    "def count_persuasive_words(text):\n",
    "    persuasive_words = {\"discount\":1.5, \"exclusive\":1.4, \"special\":1.5, \"offer\":1.8, \"free\":2,\n",
    "       \"bonus\":1.2, \"premium\":1.2,\"reward\":1.5, \"gratitude\":1.2, \"appreciate\":1.5, \"thanks\":1.3}\n",
    "    count = sum(weight for word, weight in persuasive_words.items() if word in text.lower())\n",
    "    return count, sum(persuasive_words.values())\n",
    "\n",
    "# Define a function to check for personalization\n",
    "def check_personalization(message, customer_profile):\n",
    "    personalized_phrases = {\"notice\":1.5, \"specially\":2, \"continue\":1.2, \"value\":1.3, \"loyalty\":1.5}\n",
    "    personalized_count = sum(weight for phrase, weight in personalized_phrases.items() if phrase in message.lower())\n",
    "    total_personalized = sum(personalized_phrases.values())\n",
    "    \n",
    "    return personalized_count, total_personalized\n",
    "\n",
    "# Automated evaluation function\n",
    "def evaluate_message(message, customer_profile):\n",
    "    # Clarity: Using readability score\n",
    "    clarity = textstat.flesch_reading_ease(message)\n",
    "    \n",
    "    # Persuasion: Count persuasive words and calculate percentage\n",
    "    persuasive_count,total_persuasive = count_persuasive_words(message)\n",
    "    persuasion = round(((persuasive_count / total_persuasive) * 100),2)\n",
    "    \n",
    "    # Personalization: Check for specific customer details and calculate percentage\n",
    "    personalized_count, total_personalized = check_personalization(message, customer_profile)\n",
    "    personalization = round(((personalized_count / total_personalized) * 100),2)\n",
    "    \n",
    "    return clarity, persuasion, personalization"
   ]
  },
  {
   "cell_type": "code",
   "execution_count": 14,
   "id": "d145a186-224d-42f3-b9ac-2f07717fd5d0",
   "metadata": {},
   "outputs": [
    {
     "name": "stdin",
     "output_type": "stream",
     "text": [
      "Enter Customer ID (or type 'exit' to quit):  68\n"
     ]
    },
    {
     "name": "stdout",
     "output_type": "stream",
     "text": [
      "{'message': \"Hi there, thank you for being a valued customer! As a token of appreciation, we're excited to offer you a 20% discount on your next bill. Enjoy the savings and continue to stay connected with us.\"}\n"
     ]
    },
    {
     "name": "stdin",
     "output_type": "stream",
     "text": [
      "Type 'Y' if you want to analyze the response parameters (or type 'N' to quit):  yes\n",
      "Enter Customer ID (or type 'exit' to quit):  y\n"
     ]
    },
    {
     "name": "stdout",
     "output_type": "stream",
     "text": [
      "Invalid input. Please enter a numeric Customer ID.\n"
     ]
    },
    {
     "name": "stdin",
     "output_type": "stream",
     "text": [
      "Enter Customer ID (or type 'exit' to quit):  49\n"
     ]
    },
    {
     "name": "stdout",
     "output_type": "stream",
     "text": [
      "{'message': \"Hi there! We appreciate your continued loyalty as a valued customer. As a token of our gratitude, we're delighted to offer you a 20% discount on your next bill. Thank you for choosing us as your service provider.\"}\n"
     ]
    },
    {
     "name": "stdin",
     "output_type": "stream",
     "text": [
      "Type 'Y' if you want to analyze the response parameters (or type 'N' to quit):  Y\n"
     ]
    },
    {
     "name": "stdout",
     "output_type": "stream",
     "text": [
      "{'clarity': 67.04, 'persuasion': 37.27, 'personalization': 53.33}\n"
     ]
    },
    {
     "name": "stdin",
     "output_type": "stream",
     "text": [
      "Enter Customer ID (or type 'exit' to quit):  exit\n"
     ]
    }
   ],
   "source": [
    "def run_chatbot():\n",
    "    while True:\n",
    "        customer_index = input(\"Enter Customer ID (or type 'exit' to quit): \")\n",
    "        if customer_index.lower() == 'exit':\n",
    "            break\n",
    "        \n",
    "        try:\n",
    "            customer_index = int(customer_index)\n",
    "            response = chatbot_interface(customer_index, df, model)\n",
    "            print(response)\n",
    "            \n",
    "            view_parameters = input(\"Type 'Y' if you want to analyze the response parameters (or type 'N' to quit): \")\n",
    "            if view_parameters.lower() == 'y':\n",
    "                message = response['message']\n",
    "                customer_profile = df.drop(columns=['Churn']).iloc[customer_index].to_dict()\n",
    "                clarity, persuasion, personalization = evaluate_message(message, customer_profile)\n",
    "                print({'clarity': clarity, 'persuasion': persuasion, 'personalization': personalization})\n",
    "            else:\n",
    "                continue\n",
    "        except ValueError:\n",
    "            print(\"Invalid input. Please enter a numeric Customer ID.\")\n",
    "        except KeyError:\n",
    "            print(\"Customer ID not found. Please enter a valid Customer ID.\")\n",
    "        except Exception as e:\n",
    "            print(f\"An error occurred: {e}\")\n",
    "\n",
    "run_chatbot()"
   ]
  }
 ],
 "metadata": {
  "kernelspec": {
   "display_name": "Python 3 (ipykernel)",
   "language": "python",
   "name": "python3"
  },
  "language_info": {
   "codemirror_mode": {
    "name": "ipython",
    "version": 3
   },
   "file_extension": ".py",
   "mimetype": "text/x-python",
   "name": "python",
   "nbconvert_exporter": "python",
   "pygments_lexer": "ipython3",
   "version": "3.11.7"
  }
 },
 "nbformat": 4,
 "nbformat_minor": 5
}
